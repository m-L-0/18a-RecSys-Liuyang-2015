{
 "cells": [
  {
   "cell_type": "code",
   "execution_count": 1,
   "metadata": {},
   "outputs": [],
   "source": [
    "# 基于用户的协同过滤算法\n",
    "\n",
    "# Author : MilesCode\n",
    "# Date : 18/03/29\n",
    "# Version : 0.0"
   ]
  },
  {
   "cell_type": "code",
   "execution_count": 2,
   "metadata": {},
   "outputs": [
    {
     "name": "stderr",
     "output_type": "stream",
     "text": [
      "/home/miles/.virtualenvs/env/lib/python3.6/importlib/_bootstrap.py:219: RuntimeWarning: compiletime version 3.5 of module 'tensorflow.python.framework.fast_tensor_util' does not match runtime version 3.6\n",
      "  return f(*args, **kwds)\n"
     ]
    }
   ],
   "source": [
    "import tensorflow as tf\n",
    "import numpy as np\n",
    "import math"
   ]
  },
  {
   "cell_type": "code",
   "execution_count": 3,
   "metadata": {},
   "outputs": [],
   "source": [
    "def cos_sim(x, y):\n",
    "    \"\"\"\n",
    "    计算余弦相似度\n",
    "\n",
    "    Args:\n",
    "    - x: mat, 以行向量的形式存储\n",
    "    - y: mat, 以行向量的形式存储\n",
    "\n",
    "    :return: x 和 y 之间的余弦相似度\n",
    "    \"\"\"\n",
    "    \n",
    "    numerator = x * y.T  # x 和 y 之间的内积\n",
    "    denominator = np.sqrt(x * x.T) * np.sqrt(y * y.T)\n",
    "    return (numerator / denominator)[0, 0]"
   ]
  },
  {
   "cell_type": "code",
   "execution_count": 4,
   "metadata": {},
   "outputs": [],
   "source": [
    "def similarity(data):\n",
    "    \"\"\"\n",
    "    计算矩阵中任意两行之间的相似度\n",
    "\n",
    "    Args:\n",
    "    - data: mat, 任意矩阵\n",
    "\n",
    "    :return: w, mat, 任意两行之间的相似度\n",
    "    \"\"\"\n",
    "\n",
    "    m = np.shape(data)[0]  # 用户的数量\n",
    "    # 初始化相似矩阵\n",
    "    w = np.mat(np.zeros((m, m)))\n",
    "\n",
    "    for i in range(m):\n",
    "        for j in range(i, m):\n",
    "            if not j == i:\n",
    "                # 计算任意两行之间的相似度\n",
    "                w[i, j] = cos_sim(data[i, ], data[j, ])\n",
    "                w[j, i] = w[i, j]\n",
    "            else:\n",
    "                w[i, j] = 0\n",
    "    return w"
   ]
  },
  {
   "cell_type": "code",
   "execution_count": 5,
   "metadata": {},
   "outputs": [],
   "source": [
    "def user_based_recommend(data, w, user):\n",
    "    \"\"\"\n",
    "    基于用户相似度为用户 user 推荐物品\n",
    "\n",
    "    Args:\n",
    "    - data: mat, 用户物品矩阵\n",
    "    - w: mat, 用户之间的相似度\n",
    "    - user: int, 用户编号\n",
    "\n",
    "    :return: predict, list, 推荐列表\n",
    "    \"\"\"\n",
    "    m, n = np.shape(data)\n",
    "    interaction = data[user, ]  # 用户 user 与物品信息\n",
    "\n",
    "    # 找到用户 user 没有互动过的物品\n",
    "    not_inter = []\n",
    "    for i in range(n):\n",
    "        if interaction[0, i] == 0:  # 没有互动的物品\n",
    "            not_inter.append(i)\n",
    "\n",
    "    # 对没有互动过的物品进行预测\n",
    "    predict = {}\n",
    "    for x in not_inter:\n",
    "        item = np.copy(data[:, x])  # 找到所有用户对商品 x 的互动信息\n",
    "        for i in range(m):  # 对每一个用户\n",
    "            if item[i, 0] != 0:\n",
    "                if x not in predict:\n",
    "                    predict[x] = w[user, i] * item[i, 0]\n",
    "                else:\n",
    "                    predict[x] = predict[x] + w[user, i] + item[i, 0]\n",
    "    return sorted(predict.items(), key=lambda d: d[1], reverse=True)"
   ]
  },
  {
   "cell_type": "code",
   "execution_count": null,
   "metadata": {},
   "outputs": [],
   "source": [
    "def SplitData(data, M, k, seed):\n",
    "    test = []\n",
    "    train = []\n",
    "    random.seed(seed)\n",
    "    for user, item in data:\n",
    "        if random.randint(0,M) == k:\n",
    "            test.append([user,item])\n",
    "        else:\n",
    "            train.append([user,item])\n",
    "    return train, test"
   ]
  }
 ],
 "metadata": {
  "kernelspec": {
   "display_name": "Python 3",
   "language": "python",
   "name": "python3"
  },
  "language_info": {
   "codemirror_mode": {
    "name": "ipython",
    "version": 3
   },
   "file_extension": ".py",
   "mimetype": "text/x-python",
   "name": "python",
   "nbconvert_exporter": "python",
   "pygments_lexer": "ipython3",
   "version": "3.6.3"
  }
 },
 "nbformat": 4,
 "nbformat_minor": 2
}
